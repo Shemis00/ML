{
 "cells": [
  {
   "cell_type": "code",
   "execution_count": 1,
   "metadata": {},
   "outputs": [],
   "source": [
    "from sklearn.model_selection  import train_test_split\n",
    "from sklearn.neighbors import KNeighborsClassifier\n",
    "from sklearn.preprocessing import LabelEncoder, MinMaxScaler, OneHotEncoder \n",
    "from sklearn.model_selection import KFold\n",
    "from sklearn.model_selection import cross_val_score\n",
    "from sklearn.model_selection import cross_val_predict\n",
    "from sklearn import metrics\n",
    "from sklearn.metrics import precision_score , recall_score , f1_score , confusion_matrix\n",
    "from sklearn.metrics import precision_recall_curve , PrecisionRecallDisplay \n",
    "from sklearn.metrics import roc_curve , RocCurveDisplay , roc_auc_score\n",
    "from sklearn.naive_bayes import GaussianNB\n",
    "import math\n",
    "import numpy as np\n",
    "import random\n",
    "import pandas as pd\n",
    "import matplotlib.pyplot as plt\n",
    "%matplotlib inline"
   ]
  },
  {
   "cell_type": "code",
   "execution_count": 2,
   "metadata": {},
   "outputs": [
    {
     "data": {
      "text/html": [
       "<div>\n",
       "<style scoped>\n",
       "    .dataframe tbody tr th:only-of-type {\n",
       "        vertical-align: middle;\n",
       "    }\n",
       "\n",
       "    .dataframe tbody tr th {\n",
       "        vertical-align: top;\n",
       "    }\n",
       "\n",
       "    .dataframe thead th {\n",
       "        text-align: right;\n",
       "    }\n",
       "</style>\n",
       "<table border=\"1\" class=\"dataframe\">\n",
       "  <thead>\n",
       "    <tr style=\"text-align: right;\">\n",
       "      <th></th>\n",
       "      <th>location</th>\n",
       "      <th>country</th>\n",
       "      <th>gender</th>\n",
       "      <th>age</th>\n",
       "      <th>vis_wuhan</th>\n",
       "      <th>from_wuhan</th>\n",
       "      <th>symptom1</th>\n",
       "      <th>symptom2</th>\n",
       "      <th>symptom3</th>\n",
       "      <th>symptom4</th>\n",
       "      <th>symptom5</th>\n",
       "      <th>symptom6</th>\n",
       "      <th>diff_sym_hos</th>\n",
       "      <th>result</th>\n",
       "    </tr>\n",
       "  </thead>\n",
       "  <tbody>\n",
       "    <tr>\n",
       "      <th>0</th>\n",
       "      <td>104</td>\n",
       "      <td>8</td>\n",
       "      <td>1</td>\n",
       "      <td>66.0</td>\n",
       "      <td>1</td>\n",
       "      <td>0</td>\n",
       "      <td>14</td>\n",
       "      <td>31</td>\n",
       "      <td>19</td>\n",
       "      <td>12</td>\n",
       "      <td>3</td>\n",
       "      <td>1</td>\n",
       "      <td>8</td>\n",
       "      <td>1</td>\n",
       "    </tr>\n",
       "    <tr>\n",
       "      <th>1</th>\n",
       "      <td>101</td>\n",
       "      <td>8</td>\n",
       "      <td>0</td>\n",
       "      <td>56.0</td>\n",
       "      <td>0</td>\n",
       "      <td>1</td>\n",
       "      <td>14</td>\n",
       "      <td>31</td>\n",
       "      <td>19</td>\n",
       "      <td>12</td>\n",
       "      <td>3</td>\n",
       "      <td>1</td>\n",
       "      <td>0</td>\n",
       "      <td>0</td>\n",
       "    </tr>\n",
       "    <tr>\n",
       "      <th>2</th>\n",
       "      <td>137</td>\n",
       "      <td>8</td>\n",
       "      <td>1</td>\n",
       "      <td>46.0</td>\n",
       "      <td>0</td>\n",
       "      <td>1</td>\n",
       "      <td>14</td>\n",
       "      <td>31</td>\n",
       "      <td>19</td>\n",
       "      <td>12</td>\n",
       "      <td>3</td>\n",
       "      <td>1</td>\n",
       "      <td>13</td>\n",
       "      <td>0</td>\n",
       "    </tr>\n",
       "    <tr>\n",
       "      <th>3</th>\n",
       "      <td>116</td>\n",
       "      <td>8</td>\n",
       "      <td>0</td>\n",
       "      <td>60.0</td>\n",
       "      <td>1</td>\n",
       "      <td>0</td>\n",
       "      <td>14</td>\n",
       "      <td>31</td>\n",
       "      <td>19</td>\n",
       "      <td>12</td>\n",
       "      <td>3</td>\n",
       "      <td>1</td>\n",
       "      <td>0</td>\n",
       "      <td>0</td>\n",
       "    </tr>\n",
       "    <tr>\n",
       "      <th>4</th>\n",
       "      <td>116</td>\n",
       "      <td>8</td>\n",
       "      <td>1</td>\n",
       "      <td>58.0</td>\n",
       "      <td>0</td>\n",
       "      <td>0</td>\n",
       "      <td>14</td>\n",
       "      <td>31</td>\n",
       "      <td>19</td>\n",
       "      <td>12</td>\n",
       "      <td>3</td>\n",
       "      <td>1</td>\n",
       "      <td>0</td>\n",
       "      <td>0</td>\n",
       "    </tr>\n",
       "    <tr>\n",
       "      <th>5</th>\n",
       "      <td>23</td>\n",
       "      <td>8</td>\n",
       "      <td>0</td>\n",
       "      <td>44.0</td>\n",
       "      <td>0</td>\n",
       "      <td>1</td>\n",
       "      <td>14</td>\n",
       "      <td>31</td>\n",
       "      <td>19</td>\n",
       "      <td>12</td>\n",
       "      <td>3</td>\n",
       "      <td>1</td>\n",
       "      <td>0</td>\n",
       "      <td>0</td>\n",
       "    </tr>\n",
       "    <tr>\n",
       "      <th>6</th>\n",
       "      <td>105</td>\n",
       "      <td>8</td>\n",
       "      <td>1</td>\n",
       "      <td>34.0</td>\n",
       "      <td>0</td>\n",
       "      <td>1</td>\n",
       "      <td>14</td>\n",
       "      <td>31</td>\n",
       "      <td>19</td>\n",
       "      <td>12</td>\n",
       "      <td>3</td>\n",
       "      <td>1</td>\n",
       "      <td>0</td>\n",
       "      <td>0</td>\n",
       "    </tr>\n",
       "    <tr>\n",
       "      <th>7</th>\n",
       "      <td>13</td>\n",
       "      <td>8</td>\n",
       "      <td>1</td>\n",
       "      <td>37.0</td>\n",
       "      <td>1</td>\n",
       "      <td>0</td>\n",
       "      <td>14</td>\n",
       "      <td>31</td>\n",
       "      <td>19</td>\n",
       "      <td>12</td>\n",
       "      <td>3</td>\n",
       "      <td>1</td>\n",
       "      <td>6</td>\n",
       "      <td>0</td>\n",
       "    </tr>\n",
       "    <tr>\n",
       "      <th>8</th>\n",
       "      <td>13</td>\n",
       "      <td>8</td>\n",
       "      <td>1</td>\n",
       "      <td>39.0</td>\n",
       "      <td>1</td>\n",
       "      <td>0</td>\n",
       "      <td>14</td>\n",
       "      <td>31</td>\n",
       "      <td>19</td>\n",
       "      <td>12</td>\n",
       "      <td>3</td>\n",
       "      <td>1</td>\n",
       "      <td>5</td>\n",
       "      <td>0</td>\n",
       "    </tr>\n",
       "    <tr>\n",
       "      <th>9</th>\n",
       "      <td>13</td>\n",
       "      <td>8</td>\n",
       "      <td>1</td>\n",
       "      <td>56.0</td>\n",
       "      <td>1</td>\n",
       "      <td>0</td>\n",
       "      <td>14</td>\n",
       "      <td>31</td>\n",
       "      <td>19</td>\n",
       "      <td>12</td>\n",
       "      <td>3</td>\n",
       "      <td>1</td>\n",
       "      <td>4</td>\n",
       "      <td>0</td>\n",
       "    </tr>\n",
       "  </tbody>\n",
       "</table>\n",
       "</div>"
      ],
      "text/plain": [
       "   location  country  gender   age  vis_wuhan  from_wuhan  symptom1  symptom2  \\\n",
       "0       104        8       1  66.0          1           0        14        31   \n",
       "1       101        8       0  56.0          0           1        14        31   \n",
       "2       137        8       1  46.0          0           1        14        31   \n",
       "3       116        8       0  60.0          1           0        14        31   \n",
       "4       116        8       1  58.0          0           0        14        31   \n",
       "5        23        8       0  44.0          0           1        14        31   \n",
       "6       105        8       1  34.0          0           1        14        31   \n",
       "7        13        8       1  37.0          1           0        14        31   \n",
       "8        13        8       1  39.0          1           0        14        31   \n",
       "9        13        8       1  56.0          1           0        14        31   \n",
       "\n",
       "   symptom3  symptom4  symptom5  symptom6  diff_sym_hos  result  \n",
       "0        19        12         3         1             8       1  \n",
       "1        19        12         3         1             0       0  \n",
       "2        19        12         3         1            13       0  \n",
       "3        19        12         3         1             0       0  \n",
       "4        19        12         3         1             0       0  \n",
       "5        19        12         3         1             0       0  \n",
       "6        19        12         3         1             0       0  \n",
       "7        19        12         3         1             6       0  \n",
       "8        19        12         3         1             5       0  \n",
       "9        19        12         3         1             4       0  "
      ]
     },
     "execution_count": 2,
     "metadata": {},
     "output_type": "execute_result"
    }
   ],
   "source": [
    "#IMPORTING DATA\n",
    "df = pd.read_csv(\"data.csv\" , index_col = 0)\n",
    "df.head(10)\n"
   ]
  },
  {
   "cell_type": "code",
   "execution_count": 3,
   "metadata": {},
   "outputs": [
    {
     "data": {
      "text/html": [
       "<div>\n",
       "<style scoped>\n",
       "    .dataframe tbody tr th:only-of-type {\n",
       "        vertical-align: middle;\n",
       "    }\n",
       "\n",
       "    .dataframe tbody tr th {\n",
       "        vertical-align: top;\n",
       "    }\n",
       "\n",
       "    .dataframe thead th {\n",
       "        text-align: right;\n",
       "    }\n",
       "</style>\n",
       "<table border=\"1\" class=\"dataframe\">\n",
       "  <thead>\n",
       "    <tr style=\"text-align: right;\">\n",
       "      <th></th>\n",
       "      <th>location</th>\n",
       "      <th>country</th>\n",
       "      <th>gender</th>\n",
       "      <th>age</th>\n",
       "      <th>vis_wuhan</th>\n",
       "      <th>from_wuhan</th>\n",
       "      <th>symptom1</th>\n",
       "      <th>symptom2</th>\n",
       "      <th>symptom3</th>\n",
       "      <th>symptom4</th>\n",
       "      <th>symptom5</th>\n",
       "      <th>symptom6</th>\n",
       "      <th>diff_sym_hos</th>\n",
       "      <th>result</th>\n",
       "    </tr>\n",
       "  </thead>\n",
       "  <tbody>\n",
       "    <tr>\n",
       "      <th>0</th>\n",
       "      <td>3</td>\n",
       "      <td>1</td>\n",
       "      <td>1</td>\n",
       "      <td>3</td>\n",
       "      <td>1</td>\n",
       "      <td>0</td>\n",
       "      <td>14</td>\n",
       "      <td>31</td>\n",
       "      <td>19</td>\n",
       "      <td>12</td>\n",
       "      <td>3</td>\n",
       "      <td>1</td>\n",
       "      <td>8</td>\n",
       "      <td>1</td>\n",
       "    </tr>\n",
       "    <tr>\n",
       "      <th>1</th>\n",
       "      <td>3</td>\n",
       "      <td>1</td>\n",
       "      <td>0</td>\n",
       "      <td>2</td>\n",
       "      <td>0</td>\n",
       "      <td>1</td>\n",
       "      <td>14</td>\n",
       "      <td>31</td>\n",
       "      <td>19</td>\n",
       "      <td>12</td>\n",
       "      <td>3</td>\n",
       "      <td>1</td>\n",
       "      <td>0</td>\n",
       "      <td>0</td>\n",
       "    </tr>\n",
       "    <tr>\n",
       "      <th>2</th>\n",
       "      <td>4</td>\n",
       "      <td>1</td>\n",
       "      <td>1</td>\n",
       "      <td>2</td>\n",
       "      <td>0</td>\n",
       "      <td>1</td>\n",
       "      <td>14</td>\n",
       "      <td>31</td>\n",
       "      <td>19</td>\n",
       "      <td>12</td>\n",
       "      <td>3</td>\n",
       "      <td>1</td>\n",
       "      <td>13</td>\n",
       "      <td>0</td>\n",
       "    </tr>\n",
       "    <tr>\n",
       "      <th>3</th>\n",
       "      <td>4</td>\n",
       "      <td>1</td>\n",
       "      <td>0</td>\n",
       "      <td>3</td>\n",
       "      <td>1</td>\n",
       "      <td>0</td>\n",
       "      <td>14</td>\n",
       "      <td>31</td>\n",
       "      <td>19</td>\n",
       "      <td>12</td>\n",
       "      <td>3</td>\n",
       "      <td>1</td>\n",
       "      <td>0</td>\n",
       "      <td>0</td>\n",
       "    </tr>\n",
       "    <tr>\n",
       "      <th>4</th>\n",
       "      <td>4</td>\n",
       "      <td>1</td>\n",
       "      <td>1</td>\n",
       "      <td>2</td>\n",
       "      <td>0</td>\n",
       "      <td>0</td>\n",
       "      <td>14</td>\n",
       "      <td>31</td>\n",
       "      <td>19</td>\n",
       "      <td>12</td>\n",
       "      <td>3</td>\n",
       "      <td>1</td>\n",
       "      <td>0</td>\n",
       "      <td>0</td>\n",
       "    </tr>\n",
       "  </tbody>\n",
       "</table>\n",
       "</div>"
      ],
      "text/plain": [
       "  location country  gender age  vis_wuhan  from_wuhan  symptom1  symptom2  \\\n",
       "0        3       1       1   3          1           0        14        31   \n",
       "1        3       1       0   2          0           1        14        31   \n",
       "2        4       1       1   2          0           1        14        31   \n",
       "3        4       1       0   3          1           0        14        31   \n",
       "4        4       1       1   2          0           0        14        31   \n",
       "\n",
       "   symptom3  symptom4  symptom5  symptom6  diff_sym_hos  result  \n",
       "0        19        12         3         1             8       1  \n",
       "1        19        12         3         1             0       0  \n",
       "2        19        12         3         1            13       0  \n",
       "3        19        12         3         1             0       0  \n",
       "4        19        12         3         1             0       0  "
      ]
     },
     "execution_count": 3,
     "metadata": {},
     "output_type": "execute_result"
    }
   ],
   "source": [
    "nLocation = pd.cut(df.location, bins=5 , labels=np.arange(5), right=False)\n",
    "df['location'] = nLocation\n",
    "\n",
    "nCountry = pd.cut(df.country, bins=5 , labels=np.arange(5), right=False)\n",
    "df['country'] = nCountry\n",
    "\n",
    "nAge = pd.cut(df.age, bins=5, labels=np.arange(5), right=False)\n",
    "df['age'] = nAge\n",
    "\n",
    "df.head(5)\n"
   ]
  },
  {
   "cell_type": "code",
   "execution_count": 4,
   "metadata": {},
   "outputs": [
    {
     "data": {
      "text/html": [
       "<div>\n",
       "<style scoped>\n",
       "    .dataframe tbody tr th:only-of-type {\n",
       "        vertical-align: middle;\n",
       "    }\n",
       "\n",
       "    .dataframe tbody tr th {\n",
       "        vertical-align: top;\n",
       "    }\n",
       "\n",
       "    .dataframe thead th {\n",
       "        text-align: right;\n",
       "    }\n",
       "</style>\n",
       "<table border=\"1\" class=\"dataframe\">\n",
       "  <thead>\n",
       "    <tr style=\"text-align: right;\">\n",
       "      <th></th>\n",
       "      <th>age</th>\n",
       "      <th>vis_wuhan</th>\n",
       "      <th>from_wuhan</th>\n",
       "      <th>symptom1</th>\n",
       "      <th>symptom2</th>\n",
       "      <th>symptom3</th>\n",
       "      <th>symptom4</th>\n",
       "      <th>symptom5</th>\n",
       "      <th>symptom6</th>\n",
       "      <th>diff_sym_hos</th>\n",
       "      <th>...</th>\n",
       "      <th>loc3</th>\n",
       "      <th>loc4</th>\n",
       "      <th>Coun0</th>\n",
       "      <th>Coun1</th>\n",
       "      <th>Coun2</th>\n",
       "      <th>Coun3</th>\n",
       "      <th>Coun4</th>\n",
       "      <th>Man</th>\n",
       "      <th>Woman</th>\n",
       "      <th>Other</th>\n",
       "    </tr>\n",
       "  </thead>\n",
       "  <tbody>\n",
       "    <tr>\n",
       "      <th>0</th>\n",
       "      <td>3</td>\n",
       "      <td>1</td>\n",
       "      <td>0</td>\n",
       "      <td>14</td>\n",
       "      <td>31</td>\n",
       "      <td>19</td>\n",
       "      <td>12</td>\n",
       "      <td>3</td>\n",
       "      <td>1</td>\n",
       "      <td>8</td>\n",
       "      <td>...</td>\n",
       "      <td>1.0</td>\n",
       "      <td>0.0</td>\n",
       "      <td>0.0</td>\n",
       "      <td>1.0</td>\n",
       "      <td>0.0</td>\n",
       "      <td>0.0</td>\n",
       "      <td>0.0</td>\n",
       "      <td>0.0</td>\n",
       "      <td>1.0</td>\n",
       "      <td>0.0</td>\n",
       "    </tr>\n",
       "    <tr>\n",
       "      <th>1</th>\n",
       "      <td>2</td>\n",
       "      <td>0</td>\n",
       "      <td>1</td>\n",
       "      <td>14</td>\n",
       "      <td>31</td>\n",
       "      <td>19</td>\n",
       "      <td>12</td>\n",
       "      <td>3</td>\n",
       "      <td>1</td>\n",
       "      <td>0</td>\n",
       "      <td>...</td>\n",
       "      <td>1.0</td>\n",
       "      <td>0.0</td>\n",
       "      <td>0.0</td>\n",
       "      <td>1.0</td>\n",
       "      <td>0.0</td>\n",
       "      <td>0.0</td>\n",
       "      <td>0.0</td>\n",
       "      <td>1.0</td>\n",
       "      <td>0.0</td>\n",
       "      <td>0.0</td>\n",
       "    </tr>\n",
       "    <tr>\n",
       "      <th>2</th>\n",
       "      <td>2</td>\n",
       "      <td>0</td>\n",
       "      <td>1</td>\n",
       "      <td>14</td>\n",
       "      <td>31</td>\n",
       "      <td>19</td>\n",
       "      <td>12</td>\n",
       "      <td>3</td>\n",
       "      <td>1</td>\n",
       "      <td>13</td>\n",
       "      <td>...</td>\n",
       "      <td>0.0</td>\n",
       "      <td>1.0</td>\n",
       "      <td>0.0</td>\n",
       "      <td>1.0</td>\n",
       "      <td>0.0</td>\n",
       "      <td>0.0</td>\n",
       "      <td>0.0</td>\n",
       "      <td>0.0</td>\n",
       "      <td>1.0</td>\n",
       "      <td>0.0</td>\n",
       "    </tr>\n",
       "    <tr>\n",
       "      <th>3</th>\n",
       "      <td>3</td>\n",
       "      <td>1</td>\n",
       "      <td>0</td>\n",
       "      <td>14</td>\n",
       "      <td>31</td>\n",
       "      <td>19</td>\n",
       "      <td>12</td>\n",
       "      <td>3</td>\n",
       "      <td>1</td>\n",
       "      <td>0</td>\n",
       "      <td>...</td>\n",
       "      <td>0.0</td>\n",
       "      <td>1.0</td>\n",
       "      <td>0.0</td>\n",
       "      <td>1.0</td>\n",
       "      <td>0.0</td>\n",
       "      <td>0.0</td>\n",
       "      <td>0.0</td>\n",
       "      <td>1.0</td>\n",
       "      <td>0.0</td>\n",
       "      <td>0.0</td>\n",
       "    </tr>\n",
       "    <tr>\n",
       "      <th>4</th>\n",
       "      <td>2</td>\n",
       "      <td>0</td>\n",
       "      <td>0</td>\n",
       "      <td>14</td>\n",
       "      <td>31</td>\n",
       "      <td>19</td>\n",
       "      <td>12</td>\n",
       "      <td>3</td>\n",
       "      <td>1</td>\n",
       "      <td>0</td>\n",
       "      <td>...</td>\n",
       "      <td>0.0</td>\n",
       "      <td>1.0</td>\n",
       "      <td>0.0</td>\n",
       "      <td>1.0</td>\n",
       "      <td>0.0</td>\n",
       "      <td>0.0</td>\n",
       "      <td>0.0</td>\n",
       "      <td>0.0</td>\n",
       "      <td>1.0</td>\n",
       "      <td>0.0</td>\n",
       "    </tr>\n",
       "    <tr>\n",
       "      <th>5</th>\n",
       "      <td>2</td>\n",
       "      <td>0</td>\n",
       "      <td>1</td>\n",
       "      <td>14</td>\n",
       "      <td>31</td>\n",
       "      <td>19</td>\n",
       "      <td>12</td>\n",
       "      <td>3</td>\n",
       "      <td>1</td>\n",
       "      <td>0</td>\n",
       "      <td>...</td>\n",
       "      <td>0.0</td>\n",
       "      <td>0.0</td>\n",
       "      <td>0.0</td>\n",
       "      <td>1.0</td>\n",
       "      <td>0.0</td>\n",
       "      <td>0.0</td>\n",
       "      <td>0.0</td>\n",
       "      <td>1.0</td>\n",
       "      <td>0.0</td>\n",
       "      <td>0.0</td>\n",
       "    </tr>\n",
       "    <tr>\n",
       "      <th>6</th>\n",
       "      <td>1</td>\n",
       "      <td>0</td>\n",
       "      <td>1</td>\n",
       "      <td>14</td>\n",
       "      <td>31</td>\n",
       "      <td>19</td>\n",
       "      <td>12</td>\n",
       "      <td>3</td>\n",
       "      <td>1</td>\n",
       "      <td>0</td>\n",
       "      <td>...</td>\n",
       "      <td>1.0</td>\n",
       "      <td>0.0</td>\n",
       "      <td>0.0</td>\n",
       "      <td>1.0</td>\n",
       "      <td>0.0</td>\n",
       "      <td>0.0</td>\n",
       "      <td>0.0</td>\n",
       "      <td>0.0</td>\n",
       "      <td>1.0</td>\n",
       "      <td>0.0</td>\n",
       "    </tr>\n",
       "    <tr>\n",
       "      <th>7</th>\n",
       "      <td>1</td>\n",
       "      <td>1</td>\n",
       "      <td>0</td>\n",
       "      <td>14</td>\n",
       "      <td>31</td>\n",
       "      <td>19</td>\n",
       "      <td>12</td>\n",
       "      <td>3</td>\n",
       "      <td>1</td>\n",
       "      <td>6</td>\n",
       "      <td>...</td>\n",
       "      <td>0.0</td>\n",
       "      <td>0.0</td>\n",
       "      <td>0.0</td>\n",
       "      <td>1.0</td>\n",
       "      <td>0.0</td>\n",
       "      <td>0.0</td>\n",
       "      <td>0.0</td>\n",
       "      <td>0.0</td>\n",
       "      <td>1.0</td>\n",
       "      <td>0.0</td>\n",
       "    </tr>\n",
       "    <tr>\n",
       "      <th>8</th>\n",
       "      <td>1</td>\n",
       "      <td>1</td>\n",
       "      <td>0</td>\n",
       "      <td>14</td>\n",
       "      <td>31</td>\n",
       "      <td>19</td>\n",
       "      <td>12</td>\n",
       "      <td>3</td>\n",
       "      <td>1</td>\n",
       "      <td>5</td>\n",
       "      <td>...</td>\n",
       "      <td>0.0</td>\n",
       "      <td>0.0</td>\n",
       "      <td>0.0</td>\n",
       "      <td>1.0</td>\n",
       "      <td>0.0</td>\n",
       "      <td>0.0</td>\n",
       "      <td>0.0</td>\n",
       "      <td>0.0</td>\n",
       "      <td>1.0</td>\n",
       "      <td>0.0</td>\n",
       "    </tr>\n",
       "    <tr>\n",
       "      <th>9</th>\n",
       "      <td>2</td>\n",
       "      <td>1</td>\n",
       "      <td>0</td>\n",
       "      <td>14</td>\n",
       "      <td>31</td>\n",
       "      <td>19</td>\n",
       "      <td>12</td>\n",
       "      <td>3</td>\n",
       "      <td>1</td>\n",
       "      <td>4</td>\n",
       "      <td>...</td>\n",
       "      <td>0.0</td>\n",
       "      <td>0.0</td>\n",
       "      <td>0.0</td>\n",
       "      <td>1.0</td>\n",
       "      <td>0.0</td>\n",
       "      <td>0.0</td>\n",
       "      <td>0.0</td>\n",
       "      <td>0.0</td>\n",
       "      <td>1.0</td>\n",
       "      <td>0.0</td>\n",
       "    </tr>\n",
       "  </tbody>\n",
       "</table>\n",
       "<p>10 rows × 24 columns</p>\n",
       "</div>"
      ],
      "text/plain": [
       "  age  vis_wuhan  from_wuhan  symptom1  symptom2  symptom3  symptom4  \\\n",
       "0   3          1           0        14        31        19        12   \n",
       "1   2          0           1        14        31        19        12   \n",
       "2   2          0           1        14        31        19        12   \n",
       "3   3          1           0        14        31        19        12   \n",
       "4   2          0           0        14        31        19        12   \n",
       "5   2          0           1        14        31        19        12   \n",
       "6   1          0           1        14        31        19        12   \n",
       "7   1          1           0        14        31        19        12   \n",
       "8   1          1           0        14        31        19        12   \n",
       "9   2          1           0        14        31        19        12   \n",
       "\n",
       "   symptom5  symptom6  diff_sym_hos  ...  loc3  loc4  Coun0  Coun1  Coun2  \\\n",
       "0         3         1             8  ...   1.0   0.0    0.0    1.0    0.0   \n",
       "1         3         1             0  ...   1.0   0.0    0.0    1.0    0.0   \n",
       "2         3         1            13  ...   0.0   1.0    0.0    1.0    0.0   \n",
       "3         3         1             0  ...   0.0   1.0    0.0    1.0    0.0   \n",
       "4         3         1             0  ...   0.0   1.0    0.0    1.0    0.0   \n",
       "5         3         1             0  ...   0.0   0.0    0.0    1.0    0.0   \n",
       "6         3         1             0  ...   1.0   0.0    0.0    1.0    0.0   \n",
       "7         3         1             6  ...   0.0   0.0    0.0    1.0    0.0   \n",
       "8         3         1             5  ...   0.0   0.0    0.0    1.0    0.0   \n",
       "9         3         1             4  ...   0.0   0.0    0.0    1.0    0.0   \n",
       "\n",
       "   Coun3  Coun4  Man  Woman  Other  \n",
       "0    0.0    0.0  0.0    1.0    0.0  \n",
       "1    0.0    0.0  1.0    0.0    0.0  \n",
       "2    0.0    0.0  0.0    1.0    0.0  \n",
       "3    0.0    0.0  1.0    0.0    0.0  \n",
       "4    0.0    0.0  0.0    1.0    0.0  \n",
       "5    0.0    0.0  1.0    0.0    0.0  \n",
       "6    0.0    0.0  0.0    1.0    0.0  \n",
       "7    0.0    0.0  0.0    1.0    0.0  \n",
       "8    0.0    0.0  0.0    1.0    0.0  \n",
       "9    0.0    0.0  0.0    1.0    0.0  \n",
       "\n",
       "[10 rows x 24 columns]"
      ]
     },
     "execution_count": 4,
     "metadata": {},
     "output_type": "execute_result"
    }
   ],
   "source": [
    "label_encoder = LabelEncoder()\n",
    "df['location'] = label_encoder.fit_transform(df['location'])\n",
    "encoder = OneHotEncoder(sparse=False)\n",
    "df[['loc0','loc1', 'loc2' , 'loc3' , 'loc4'   ]] = encoder.fit_transform(df['location'].values.reshape(-1,1))\n",
    "\n",
    "label_encoderC = LabelEncoder()\n",
    "df['country'] = label_encoderC.fit_transform(df['country'])\n",
    "encoderC = OneHotEncoder(sparse=False)\n",
    "df[['Coun0','Coun1', 'Coun2' , 'Coun3' , 'Coun4' ]] = encoderC.fit_transform(df['country'].values.reshape(-1,1))\n",
    "\n",
    "label_encoderG = LabelEncoder()\n",
    "df['gender'] = label_encoderG.fit_transform(df['gender'])\n",
    "encoderG = OneHotEncoder(sparse=False)\n",
    "df[['Man','Woman', 'Other']] = encoderG.fit_transform(df['gender'].values.reshape(-1,1))\n",
    "\n",
    "df = df.drop(\"location\", axis=1)\n",
    "df = df.drop(\"country\", axis=1)\n",
    "df = df.drop(\"gender\", axis=1)\n",
    "df.head(10)\n"
   ]
  },
  {
   "cell_type": "code",
   "execution_count": null,
   "metadata": {},
   "outputs": [],
   "source": []
  },
  {
   "cell_type": "code",
   "execution_count": 5,
   "metadata": {},
   "outputs": [],
   "source": [
    "#Reordering the columns\n",
    "df = df[['age', 'vis_wuhan', 'from_wuhan' , 'symptom1' , 'symptom2' , 'symptom3' , 'symptom4' , 'symptom5' , 'symptom6' , 'diff_sym_hos' ,'loc0','loc1', 'loc2' , 'loc3' , 'loc4' , 'Coun0','Coun1', 'Coun2' , 'Coun3' , 'Coun4' ,'Man','Woman' ,'Other' , 'result']]\n",
    "X = df.iloc[:,0:23].values\n",
    "Y = df.iloc[:, 23:24].values\n",
    "\n",
    "scaler = MinMaxScaler(feature_range=(0, 1))\n",
    "nX = scaler.fit_transform(X)\n",
    "nY = scaler.fit_transform(Y)\n"
   ]
  },
  {
   "cell_type": "code",
   "execution_count": null,
   "metadata": {},
   "outputs": [],
   "source": []
  },
  {
   "cell_type": "code",
   "execution_count": 6,
   "metadata": {},
   "outputs": [
    {
     "name": "stdout",
     "output_type": "stream",
     "text": [
      "0.8546511627906976 \n",
      "\n",
      "0.8755813953488373 \n",
      "\n",
      "0.8465116279069766 \n",
      "\n",
      "0.8732558139534883 \n",
      "\n",
      "0.8627906976744185 \n",
      "\n",
      "0.8755813953488373 \n",
      "\n",
      "0.8744186046511627 \n",
      "\n",
      "0.877906976744186 \n",
      "\n",
      "0.8558139534883722 \n",
      "\n",
      "0.8534883720930233 \n",
      "\n",
      "0.8593023255813954 \n",
      "\n",
      "0.8581395348837209 \n",
      "\n",
      "0.8569767441860465 \n",
      "\n",
      "0.8767441860465116 \n",
      "\n",
      "0.8779069767441859 \n",
      "\n",
      "0.877906976744186 \n",
      "\n",
      "0.8802325581395347 \n",
      "\n",
      "0.8755813953488373 \n",
      "\n",
      "0.8767441860465116 \n",
      "\n",
      "0.8755813953488373 \n",
      "\n"
     ]
    }
   ],
   "source": [
    "k_range = range(1,21)\n",
    "k_scores = []\n",
    "\n",
    "for k in k_range:\n",
    "    knn = KNeighborsClassifier(n_neighbors=k)\n",
    "    scores = cross_val_score(knn, nX, nY.ravel(), cv=5, scoring='accuracy')\n",
    "    k_scores.append(scores.mean())\n",
    "    \n",
    "for i in range(20):\n",
    "    print(k_scores[i] , \"\\n\")\n",
    "    "
   ]
  },
  {
   "cell_type": "code",
   "execution_count": 7,
   "metadata": {},
   "outputs": [
    {
     "name": "stdout",
     "output_type": "stream",
     "text": [
      "Optimum K accuracy:  0.8802325581395347\n"
     ]
    }
   ],
   "source": [
    "print('Optimum K accuracy: ', max(k_scores))"
   ]
  },
  {
   "cell_type": "code",
   "execution_count": 8,
   "metadata": {},
   "outputs": [
    {
     "data": {
      "text/plain": [
       "Text(0, 0.5, 'Accuracy')"
      ]
     },
     "execution_count": 8,
     "metadata": {},
     "output_type": "execute_result"
    },
    {
     "data": {
      "image/png": "[encoded data removed]",
      "text/plain": [
       "<Figure size 432x288 with 1 Axes>"
      ]
     },
     "metadata": {
      "needs_background": "light"
     },
     "output_type": "display_data"
    }
   ],
   "source": [
    "plt.plot(k_range, k_scores)\n",
    "plt.xlabel('Value of K')\n",
    "plt.ylabel('Accuracy')"
   ]
  },
  {
   "cell_type": "code",
   "execution_count": null,
   "metadata": {},
   "outputs": [],
   "source": []
  },
  {
   "cell_type": "code",
   "execution_count": 9,
   "metadata": {},
   "outputs": [
    {
     "name": "stdout",
     "output_type": "stream",
     "text": [
      "[0.86046512 0.88372093 0.86627907 0.88372093 0.90697674]\n",
      "0.8802325581395347\n"
     ]
    }
   ],
   "source": [
    "knn = KNeighborsClassifier(n_neighbors=17)\n",
    "scores = cross_val_score(knn, nX, nY.ravel(), cv=5, scoring='accuracy')\n",
    "print(scores)\n",
    "\n",
    "KNN_Average = scores.mean()\n",
    "print(scores.mean())"
   ]
  },
  {
   "cell_type": "code",
   "execution_count": 10,
   "metadata": {},
   "outputs": [],
   "source": [
    "knn = KNeighborsClassifier(n_neighbors=17)\n",
    "knn.fit(nX,nY.ravel())\n",
    "y_train_pred = cross_val_predict(knn,nX,nY.ravel(), cv = 5)\n"
   ]
  },
  {
   "cell_type": "code",
   "execution_count": 11,
   "metadata": {
    "scrolled": true
   },
   "outputs": [
    {
     "name": "stdout",
     "output_type": "stream",
     "text": [
      "[[747   5]\n",
      " [ 98  10]] \n",
      "\n",
      "0.6666666666666666 \n",
      "\n",
      "0.09259259259259259 \n",
      "\n",
      "0.16260162601626016 \n",
      "\n"
     ]
    }
   ],
   "source": [
    "Precision_KNN = precision_score(nY, y_train_pred)\n",
    "Confusion_Matrix_KNN = confusion_matrix(nY, y_train_pred)\n",
    "print(Confusion_Matrix_KNN , \"\\n\")\n",
    "print(Precision_KNN , \"\\n\")\n",
    "Recall_KNN = recall_score(nY, y_train_pred)\n",
    "print(Recall_KNN , \"\\n\")\n",
    "F1_KNN = f1_score(nY,y_train_pred)\n",
    "print(F1_KNN , \"\\n\")"
   ]
  },
  {
   "cell_type": "code",
   "execution_count": 12,
   "metadata": {},
   "outputs": [
    {
     "data": {
      "image/png": "[encoded data removed]",
      "text/plain": [
       "<Figure size 432x288 with 1 Axes>"
      ]
     },
     "metadata": {
      "needs_background": "light"
     },
     "output_type": "display_data"
    }
   ],
   "source": [
    "y_scores = cross_val_predict(knn,nX,nY.ravel(), cv=5)\n",
    "precisions, recalls, thresholds = precision_recall_curve(nY, y_scores)\n",
    "display = PrecisionRecallDisplay.from_estimator(knn,nX,nY)\n",
    "_ = display.ax_.set_title(\"Precision Vs Recall curve KNN\")"
   ]
  },
  {
   "cell_type": "code",
   "execution_count": 13,
   "metadata": {},
   "outputs": [
    {
     "data": {
      "image/png": "[encoded data removed]",
      "text/plain": [
       "<Figure size 1152x864 with 1 Axes>"
      ]
     },
     "metadata": {
      "needs_background": "light"
     },
     "output_type": "display_data"
    }
   ],
   "source": [
    "fpr, tpr, threshold = roc_curve(nY, y_scores)\n",
    "plt.figure(figsize = (16,12))\n",
    "plt.plot(fpr, tpr, 'b')\n",
    "plt.plot([0, 1], [0, 1],'r--')\n",
    "plt.title(\"KNN\")\n",
    "plt.xlabel(\"FPR\")\n",
    "plt.ylabel(\"TPR\")\n",
    "plt.show()"
   ]
  },
  {
   "cell_type": "code",
   "execution_count": 14,
   "metadata": {},
   "outputs": [
    {
     "name": "stdout",
     "output_type": "stream",
     "text": [
      "[0.1255814  0.66666667 1.        ]\n",
      "[1.         0.09259259 0.        ]\n",
      "[0. 1.]\n",
      "0.5429718282111898 \n",
      "\n"
     ]
    }
   ],
   "source": [
    "print(precisions)\n",
    "print(recalls)\n",
    "print(thresholds)\n",
    "\n",
    "AUC_KNN = roc_auc_score(nY, y_scores)\n",
    "print(AUC_KNN , \"\\n\")\n"
   ]
  },
  {
   "cell_type": "code",
   "execution_count": 15,
   "metadata": {},
   "outputs": [],
   "source": [
    "# Logistic Regression"
   ]
  },
  {
   "cell_type": "code",
   "execution_count": 16,
   "metadata": {},
   "outputs": [],
   "source": [
    "from sklearn.linear_model import LogisticRegression"
   ]
  },
  {
   "cell_type": "code",
   "execution_count": 17,
   "metadata": {},
   "outputs": [
    {
     "name": "stdout",
     "output_type": "stream",
     "text": [
      "[0.9244186  0.88953488 0.9127907  0.94767442 0.93023256]\n"
     ]
    }
   ],
   "source": [
    "log_clf = LogisticRegression()\n",
    "scores_Log = cross_val_score(log_clf, nX, nY.ravel(), cv=5, scoring='accuracy')\n",
    "Log_Average = scores_Log.mean()\n",
    "print(scores_Log)"
   ]
  },
  {
   "cell_type": "code",
   "execution_count": 18,
   "metadata": {},
   "outputs": [
    {
     "data": {
      "image/png": "[encoded data removed]",
      "text/plain": [
       "<Figure size 432x288 with 1 Axes>"
      ]
     },
     "metadata": {
      "needs_background": "light"
     },
     "output_type": "display_data"
    }
   ],
   "source": [
    "log_clf.fit(nX,nY.ravel())\n",
    "y_train_log = cross_val_predict(log_clf,nX,nY.ravel(), cv = 5)\n",
    "precisions_log, recalls_log, thresholds_log = precision_recall_curve(nY, y_train_log)\n",
    "display = PrecisionRecallDisplay.from_estimator(log_clf,nX,nY)\n",
    "_ = display.ax_.set_title(\"Precision Vs Recall curve\")"
   ]
  },
  {
   "cell_type": "code",
   "execution_count": 19,
   "metadata": {},
   "outputs": [
    {
     "data": {
      "image/png": "[encoded data removed]",
      "text/plain": [
       "<Figure size 576x432 with 1 Axes>"
      ]
     },
     "metadata": {
      "needs_background": "light"
     },
     "output_type": "display_data"
    }
   ],
   "source": [
    "fpr_log, tpr_log, threshold_log = roc_curve(nY, y_train_log)\n",
    "plt.figure(figsize = (8,6))\n",
    "plt.plot(fpr_log, tpr_log, 'b')\n",
    "plt.xlabel(\"FPR\")\n",
    "plt.ylabel(\"TPR\")\n",
    "plt.show()"
   ]
  },
  {
   "cell_type": "code",
   "execution_count": 20,
   "metadata": {},
   "outputs": [
    {
     "name": "stdout",
     "output_type": "stream",
     "text": [
      "0.7605151694247438\n",
      "[0.1255814  0.75641026 1.        ]\n",
      "[1.        0.5462963 0.       ]\n",
      "[0. 1.]\n"
     ]
    }
   ],
   "source": [
    "AUC_log = roc_auc_score(nY, y_train_log)\n",
    "print(AUC_log)\n",
    "print(precisions_log)\n",
    "print(recalls_log)\n",
    "print(thresholds_log)"
   ]
  },
  {
   "cell_type": "code",
   "execution_count": 21,
   "metadata": {},
   "outputs": [
    {
     "data": {
      "image/png": "[encoded data removed]",
      "text/plain": [
       "<Figure size 576x432 with 1 Axes>"
      ]
     },
     "metadata": {
      "needs_background": "light"
     },
     "output_type": "display_data"
    }
   ],
   "source": [
    "plt.figure(figsize = (8,6))\n",
    "plt.plot(fpr_log, tpr_log, 'b')\n",
    "plt.plot(fpr, tpr, 'g')\n",
    "plt.xlabel(\"FPR\")\n",
    "plt.ylabel(\"TPR\")\n",
    "plt.show()"
   ]
  },
  {
   "cell_type": "code",
   "execution_count": 22,
   "metadata": {},
   "outputs": [
    {
     "name": "stdout",
     "output_type": "stream",
     "text": [
      "Area Under the Curve for logistic Regression Classifier is:  0.7605151694247438\n",
      "Area Under the Curve for KNN classifier is                :  0.5429718282111898\n"
     ]
    }
   ],
   "source": [
    "print(\"Area Under the Curve for logistic Regression Classifier is: \" , AUC_log)\n",
    "print(\"Area Under the Curve for KNN classifier is                : \" , AUC_KNN)"
   ]
  },
  {
   "cell_type": "code",
   "execution_count": 23,
   "metadata": {},
   "outputs": [],
   "source": [
    "# NAIVE BAYES CLASSIFIER"
   ]
  },
  {
   "cell_type": "code",
   "execution_count": 24,
   "metadata": {},
   "outputs": [
    {
     "name": "stdout",
     "output_type": "stream",
     "text": [
      "0.27325581395348836 \n",
      "\n",
      "0.3023255813953488 \n",
      "\n",
      "0.23837209302325582 \n",
      "\n",
      "0.3430232558139535 \n",
      "\n",
      "0.5406976744186046 \n",
      "\n"
     ]
    }
   ],
   "source": [
    "nb_clf = GaussianNB(priors = None)\n",
    "scores_NB = cross_val_score(nb_clf, nX, nY.ravel(), cv=5, scoring='accuracy')\n",
    "NB_Average = scores_NB.mean()\n",
    "for i in range(5):\n",
    "    print(scores_NB[i] , \"\\n\")\n",
    "\n",
    "  "
   ]
  },
  {
   "cell_type": "code",
   "execution_count": 25,
   "metadata": {},
   "outputs": [
    {
     "name": "stdout",
     "output_type": "stream",
     "text": [
      "KNN Average of the folds is                :  0.8802325581395347\n",
      "Logistic Regression Average of the folds is:  0.9209302325581395\n",
      "Naive Bayes classifier Average of the folds is:  0.3395348837209302\n"
     ]
    }
   ],
   "source": [
    "print(\"KNN Average of the folds is                : \", KNN_Average)\n",
    "print(\"Logistic Regression Average of the folds is: \" ,Log_Average)\n",
    "print(\"Naive Bayes classifier Average of the folds is: \" , NB_Average)  "
   ]
  },
  {
   "cell_type": "code",
   "execution_count": 26,
   "metadata": {},
   "outputs": [
    {
     "data": {
      "image/png": "[encoded data removed]",
      "text/plain": [
       "<Figure size 432x288 with 1 Axes>"
      ]
     },
     "metadata": {
      "needs_background": "light"
     },
     "output_type": "display_data"
    }
   ],
   "source": [
    "nb_clf.fit(nX,nY.ravel())\n",
    "y_train_nb = cross_val_predict(nb_clf,nX,nY.ravel(), cv = 5)\n",
    "precisions_nb, recalls_nb, thresholds_nb = precision_recall_curve(nY, y_train_nb)\n",
    "display = PrecisionRecallDisplay.from_estimator(nb_clf,nX,nY)\n",
    "_ = display.ax_.set_title(\"Precision Vs Recall \")"
   ]
  },
  {
   "cell_type": "code",
   "execution_count": 27,
   "metadata": {},
   "outputs": [
    {
     "data": {
      "image/png": "[encoded data removed]",
      "text/plain": [
       "<Figure size 1152x864 with 1 Axes>"
      ]
     },
     "metadata": {
      "needs_background": "light"
     },
     "output_type": "display_data"
    }
   ],
   "source": [
    "fpr_nb, tpr_nb, threshold_nb = roc_curve(nY, y_train_nb)\n",
    "plt.figure(figsize = (16,12))\n",
    "plt.plot(fpr_nb, tpr_nb, 'b')\n",
    "plt.xlabel(\"FPR\")\n",
    "plt.ylabel(\"TPR\")\n",
    "plt.show()"
   ]
  },
  {
   "cell_type": "code",
   "execution_count": 28,
   "metadata": {},
   "outputs": [
    {
     "name": "stdout",
     "output_type": "stream",
     "text": [
      "0.578728329393223\n",
      "[0.1255814  0.14831804 1.        ]\n",
      "[1.         0.89814815 0.        ]\n",
      "[0. 1.]\n"
     ]
    }
   ],
   "source": [
    "AUC_nb = roc_auc_score(nY, y_train_nb)\n",
    "print(AUC_nb)\n",
    "print(precisions_nb)\n",
    "print(recalls_nb)\n",
    "print(thresholds_nb)"
   ]
  },
  {
   "cell_type": "code",
   "execution_count": 29,
   "metadata": {},
   "outputs": [
    {
     "data": {
      "image/png": "[encoded data removed]",
      "text/plain": [
       "<Figure size 1152x864 with 1 Axes>"
      ]
     },
     "metadata": {
      "needs_background": "light"
     },
     "output_type": "display_data"
    }
   ],
   "source": [
    "plt.figure(figsize = (16,12))\n",
    "plt.plot(fpr_log, tpr_log, 'b')\n",
    "plt.plot(fpr, tpr, 'g')\n",
    "plt.plot(fpr_nb, tpr_nb, 'y')\n",
    "plt.legend([\"Log\", \"KNN\" ,\"Naive Bayes\"], loc =\"lower right\")\n",
    "plt.xlabel(\"FPR\")\n",
    "plt.ylabel(\"TPR\")\n",
    "plt.show()"
   ]
  },
  {
   "cell_type": "code",
   "execution_count": 30,
   "metadata": {},
   "outputs": [
    {
     "name": "stdout",
     "output_type": "stream",
     "text": [
      "AUC logistic Regression Classifier is:  0.7605151694247438\n",
      "AUC KNN classifier is                :  0.5429718282111898\n",
      "AUC Naive Bayes classifier is        :  0.578728329393223\n"
     ]
    }
   ],
   "source": [
    "print(\"AUC logistic Regression Classifier is: \" , AUC_log)\n",
    "print(\"AUC KNN classifier is                : \" , AUC_KNN)\n",
    "print(\"AUC Naive Bayes classifier is        : \" , AUC_nb)\n"
   ]
  },
  {
   "cell_type": "code",
   "execution_count": null,
   "metadata": {},
   "outputs": [],
   "source": []
  },
  {
   "cell_type": "code",
   "execution_count": null,
   "metadata": {},
   "outputs": [],
   "source": []
  },
  {
   "cell_type": "code",
   "execution_count": null,
   "metadata": {},
   "outputs": [],
   "source": []
  }
 ],
 "metadata": {
  "kernelspec": {
   "display_name": "Python 3",
   "language": "python",
   "name": "python3"
  },
  "language_info": {
   "codemirror_mode": {
    "name": "ipython",
    "version": 3
   },
   "file_extension": ".py",
   "mimetype": "text/x-python",
   "name": "python",
   "nbconvert_exporter": "python",
   "pygments_lexer": "ipython3",
   "version": "3.8.5"
  }
 },
 "nbformat": 4,
 "nbformat_minor": 4
}
